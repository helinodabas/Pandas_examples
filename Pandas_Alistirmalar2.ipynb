{
  "nbformat": 4,
  "nbformat_minor": 0,
  "metadata": {
    "colab": {
      "provenance": []
    },
    "kernelspec": {
      "name": "python3",
      "display_name": "Python 3"
    },
    "language_info": {
      "name": "python"
    }
  },
  "cells": [
    {
      "cell_type": "code",
      "execution_count": 1,
      "metadata": {
        "id": "o0SRx9CK2iG3"
      },
      "outputs": [],
      "source": [
        "import numpy as np\n",
        "import pandas as pd"
      ]
    },
    {
      "cell_type": "code",
      "source": [
        "!pwd"
      ],
      "metadata": {
        "colab": {
          "base_uri": "https://localhost:8080/"
        },
        "id": "YxMmd3EQ2k9J",
        "outputId": "22a6d1ed-55a1-4985-ff90-f99c909bbf34"
      },
      "execution_count": 4,
      "outputs": [
        {
          "output_type": "stream",
          "name": "stdout",
          "text": [
            "/content\n"
          ]
        }
      ]
    },
    {
      "cell_type": "code",
      "source": [
        "df_tips = pd.read_csv('tips.csv')\n",
        "df_tips"
      ],
      "metadata": {
        "colab": {
          "base_uri": "https://localhost:8080/",
          "height": 423
        },
        "id": "HgZkNuP93O1A",
        "outputId": "2fc1f542-5680-4b9a-f57f-34605105aa65"
      },
      "execution_count": 5,
      "outputs": [
        {
          "output_type": "execute_result",
          "data": {
            "text/plain": [
              "     total_bill   tip     sex smoker   day    time  size  price_per_person  \\\n",
              "0         16.99  1.01  Female     No   Sun  Dinner     2              8.49   \n",
              "1         10.34  1.66    Male     No   Sun  Dinner     3              3.45   \n",
              "2         21.01  3.50    Male     No   Sun  Dinner     3              7.00   \n",
              "3         23.68  3.31    Male     No   Sun  Dinner     2             11.84   \n",
              "4         24.59  3.61  Female     No   Sun  Dinner     4              6.15   \n",
              "..          ...   ...     ...    ...   ...     ...   ...               ...   \n",
              "239       29.03  5.92    Male     No   Sat  Dinner     3              9.68   \n",
              "240       27.18  2.00  Female    Yes   Sat  Dinner     2             13.59   \n",
              "241       22.67  2.00    Male    Yes   Sat  Dinner     2             11.34   \n",
              "242       17.82  1.75    Male     No   Sat  Dinner     2              8.91   \n",
              "243       18.78  3.00  Female     No  Thur  Dinner     2              9.39   \n",
              "\n",
              "             Payer Name         CC Number Payment ID  \n",
              "0    Christy Cunningham  3560325168603410    Sun2959  \n",
              "1        Douglas Tucker  4478071379779230    Sun4608  \n",
              "2        Travis Walters  6011812112971322    Sun4458  \n",
              "3      Nathaniel Harris  4676137647685994    Sun5260  \n",
              "4          Tonya Carter  4832732618637221    Sun2251  \n",
              "..                  ...               ...        ...  \n",
              "239       Michael Avila  5296068606052842    Sat2657  \n",
              "240      Monica Sanders  3506806155565404    Sat1766  \n",
              "241          Keith Wong  6011891618747196    Sat3880  \n",
              "242        Dennis Dixon     4375220550950      Sat17  \n",
              "243     Michelle Hardin  3511451626698139    Thur672  \n",
              "\n",
              "[244 rows x 11 columns]"
            ],
            "text/html": [
              "\n",
              "  <div id=\"df-d03e72be-5172-4606-929f-f09c4c0276a6\">\n",
              "    <div class=\"colab-df-container\">\n",
              "      <div>\n",
              "<style scoped>\n",
              "    .dataframe tbody tr th:only-of-type {\n",
              "        vertical-align: middle;\n",
              "    }\n",
              "\n",
              "    .dataframe tbody tr th {\n",
              "        vertical-align: top;\n",
              "    }\n",
              "\n",
              "    .dataframe thead th {\n",
              "        text-align: right;\n",
              "    }\n",
              "</style>\n",
              "<table border=\"1\" class=\"dataframe\">\n",
              "  <thead>\n",
              "    <tr style=\"text-align: right;\">\n",
              "      <th></th>\n",
              "      <th>total_bill</th>\n",
              "      <th>tip</th>\n",
              "      <th>sex</th>\n",
              "      <th>smoker</th>\n",
              "      <th>day</th>\n",
              "      <th>time</th>\n",
              "      <th>size</th>\n",
              "      <th>price_per_person</th>\n",
              "      <th>Payer Name</th>\n",
              "      <th>CC Number</th>\n",
              "      <th>Payment ID</th>\n",
              "    </tr>\n",
              "  </thead>\n",
              "  <tbody>\n",
              "    <tr>\n",
              "      <th>0</th>\n",
              "      <td>16.99</td>\n",
              "      <td>1.01</td>\n",
              "      <td>Female</td>\n",
              "      <td>No</td>\n",
              "      <td>Sun</td>\n",
              "      <td>Dinner</td>\n",
              "      <td>2</td>\n",
              "      <td>8.49</td>\n",
              "      <td>Christy Cunningham</td>\n",
              "      <td>3560325168603410</td>\n",
              "      <td>Sun2959</td>\n",
              "    </tr>\n",
              "    <tr>\n",
              "      <th>1</th>\n",
              "      <td>10.34</td>\n",
              "      <td>1.66</td>\n",
              "      <td>Male</td>\n",
              "      <td>No</td>\n",
              "      <td>Sun</td>\n",
              "      <td>Dinner</td>\n",
              "      <td>3</td>\n",
              "      <td>3.45</td>\n",
              "      <td>Douglas Tucker</td>\n",
              "      <td>4478071379779230</td>\n",
              "      <td>Sun4608</td>\n",
              "    </tr>\n",
              "    <tr>\n",
              "      <th>2</th>\n",
              "      <td>21.01</td>\n",
              "      <td>3.50</td>\n",
              "      <td>Male</td>\n",
              "      <td>No</td>\n",
              "      <td>Sun</td>\n",
              "      <td>Dinner</td>\n",
              "      <td>3</td>\n",
              "      <td>7.00</td>\n",
              "      <td>Travis Walters</td>\n",
              "      <td>6011812112971322</td>\n",
              "      <td>Sun4458</td>\n",
              "    </tr>\n",
              "    <tr>\n",
              "      <th>3</th>\n",
              "      <td>23.68</td>\n",
              "      <td>3.31</td>\n",
              "      <td>Male</td>\n",
              "      <td>No</td>\n",
              "      <td>Sun</td>\n",
              "      <td>Dinner</td>\n",
              "      <td>2</td>\n",
              "      <td>11.84</td>\n",
              "      <td>Nathaniel Harris</td>\n",
              "      <td>4676137647685994</td>\n",
              "      <td>Sun5260</td>\n",
              "    </tr>\n",
              "    <tr>\n",
              "      <th>4</th>\n",
              "      <td>24.59</td>\n",
              "      <td>3.61</td>\n",
              "      <td>Female</td>\n",
              "      <td>No</td>\n",
              "      <td>Sun</td>\n",
              "      <td>Dinner</td>\n",
              "      <td>4</td>\n",
              "      <td>6.15</td>\n",
              "      <td>Tonya Carter</td>\n",
              "      <td>4832732618637221</td>\n",
              "      <td>Sun2251</td>\n",
              "    </tr>\n",
              "    <tr>\n",
              "      <th>...</th>\n",
              "      <td>...</td>\n",
              "      <td>...</td>\n",
              "      <td>...</td>\n",
              "      <td>...</td>\n",
              "      <td>...</td>\n",
              "      <td>...</td>\n",
              "      <td>...</td>\n",
              "      <td>...</td>\n",
              "      <td>...</td>\n",
              "      <td>...</td>\n",
              "      <td>...</td>\n",
              "    </tr>\n",
              "    <tr>\n",
              "      <th>239</th>\n",
              "      <td>29.03</td>\n",
              "      <td>5.92</td>\n",
              "      <td>Male</td>\n",
              "      <td>No</td>\n",
              "      <td>Sat</td>\n",
              "      <td>Dinner</td>\n",
              "      <td>3</td>\n",
              "      <td>9.68</td>\n",
              "      <td>Michael Avila</td>\n",
              "      <td>5296068606052842</td>\n",
              "      <td>Sat2657</td>\n",
              "    </tr>\n",
              "    <tr>\n",
              "      <th>240</th>\n",
              "      <td>27.18</td>\n",
              "      <td>2.00</td>\n",
              "      <td>Female</td>\n",
              "      <td>Yes</td>\n",
              "      <td>Sat</td>\n",
              "      <td>Dinner</td>\n",
              "      <td>2</td>\n",
              "      <td>13.59</td>\n",
              "      <td>Monica Sanders</td>\n",
              "      <td>3506806155565404</td>\n",
              "      <td>Sat1766</td>\n",
              "    </tr>\n",
              "    <tr>\n",
              "      <th>241</th>\n",
              "      <td>22.67</td>\n",
              "      <td>2.00</td>\n",
              "      <td>Male</td>\n",
              "      <td>Yes</td>\n",
              "      <td>Sat</td>\n",
              "      <td>Dinner</td>\n",
              "      <td>2</td>\n",
              "      <td>11.34</td>\n",
              "      <td>Keith Wong</td>\n",
              "      <td>6011891618747196</td>\n",
              "      <td>Sat3880</td>\n",
              "    </tr>\n",
              "    <tr>\n",
              "      <th>242</th>\n",
              "      <td>17.82</td>\n",
              "      <td>1.75</td>\n",
              "      <td>Male</td>\n",
              "      <td>No</td>\n",
              "      <td>Sat</td>\n",
              "      <td>Dinner</td>\n",
              "      <td>2</td>\n",
              "      <td>8.91</td>\n",
              "      <td>Dennis Dixon</td>\n",
              "      <td>4375220550950</td>\n",
              "      <td>Sat17</td>\n",
              "    </tr>\n",
              "    <tr>\n",
              "      <th>243</th>\n",
              "      <td>18.78</td>\n",
              "      <td>3.00</td>\n",
              "      <td>Female</td>\n",
              "      <td>No</td>\n",
              "      <td>Thur</td>\n",
              "      <td>Dinner</td>\n",
              "      <td>2</td>\n",
              "      <td>9.39</td>\n",
              "      <td>Michelle Hardin</td>\n",
              "      <td>3511451626698139</td>\n",
              "      <td>Thur672</td>\n",
              "    </tr>\n",
              "  </tbody>\n",
              "</table>\n",
              "<p>244 rows × 11 columns</p>\n",
              "</div>\n",
              "      <button class=\"colab-df-convert\" onclick=\"convertToInteractive('df-d03e72be-5172-4606-929f-f09c4c0276a6')\"\n",
              "              title=\"Convert this dataframe to an interactive table.\"\n",
              "              style=\"display:none;\">\n",
              "        \n",
              "  <svg xmlns=\"http://www.w3.org/2000/svg\" height=\"24px\"viewBox=\"0 0 24 24\"\n",
              "       width=\"24px\">\n",
              "    <path d=\"M0 0h24v24H0V0z\" fill=\"none\"/>\n",
              "    <path d=\"M18.56 5.44l.94 2.06.94-2.06 2.06-.94-2.06-.94-.94-2.06-.94 2.06-2.06.94zm-11 1L8.5 8.5l.94-2.06 2.06-.94-2.06-.94L8.5 2.5l-.94 2.06-2.06.94zm10 10l.94 2.06.94-2.06 2.06-.94-2.06-.94-.94-2.06-.94 2.06-2.06.94z\"/><path d=\"M17.41 7.96l-1.37-1.37c-.4-.4-.92-.59-1.43-.59-.52 0-1.04.2-1.43.59L10.3 9.45l-7.72 7.72c-.78.78-.78 2.05 0 2.83L4 21.41c.39.39.9.59 1.41.59.51 0 1.02-.2 1.41-.59l7.78-7.78 2.81-2.81c.8-.78.8-2.07 0-2.86zM5.41 20L4 18.59l7.72-7.72 1.47 1.35L5.41 20z\"/>\n",
              "  </svg>\n",
              "      </button>\n",
              "      \n",
              "  <style>\n",
              "    .colab-df-container {\n",
              "      display:flex;\n",
              "      flex-wrap:wrap;\n",
              "      gap: 12px;\n",
              "    }\n",
              "\n",
              "    .colab-df-convert {\n",
              "      background-color: #E8F0FE;\n",
              "      border: none;\n",
              "      border-radius: 50%;\n",
              "      cursor: pointer;\n",
              "      display: none;\n",
              "      fill: #1967D2;\n",
              "      height: 32px;\n",
              "      padding: 0 0 0 0;\n",
              "      width: 32px;\n",
              "    }\n",
              "\n",
              "    .colab-df-convert:hover {\n",
              "      background-color: #E2EBFA;\n",
              "      box-shadow: 0px 1px 2px rgba(60, 64, 67, 0.3), 0px 1px 3px 1px rgba(60, 64, 67, 0.15);\n",
              "      fill: #174EA6;\n",
              "    }\n",
              "\n",
              "    [theme=dark] .colab-df-convert {\n",
              "      background-color: #3B4455;\n",
              "      fill: #D2E3FC;\n",
              "    }\n",
              "\n",
              "    [theme=dark] .colab-df-convert:hover {\n",
              "      background-color: #434B5C;\n",
              "      box-shadow: 0px 1px 3px 1px rgba(0, 0, 0, 0.15);\n",
              "      filter: drop-shadow(0px 1px 2px rgba(0, 0, 0, 0.3));\n",
              "      fill: #FFFFFF;\n",
              "    }\n",
              "  </style>\n",
              "\n",
              "      <script>\n",
              "        const buttonEl =\n",
              "          document.querySelector('#df-d03e72be-5172-4606-929f-f09c4c0276a6 button.colab-df-convert');\n",
              "        buttonEl.style.display =\n",
              "          google.colab.kernel.accessAllowed ? 'block' : 'none';\n",
              "\n",
              "        async function convertToInteractive(key) {\n",
              "          const element = document.querySelector('#df-d03e72be-5172-4606-929f-f09c4c0276a6');\n",
              "          const dataTable =\n",
              "            await google.colab.kernel.invokeFunction('convertToInteractive',\n",
              "                                                     [key], {});\n",
              "          if (!dataTable) return;\n",
              "\n",
              "          const docLinkHtml = 'Like what you see? Visit the ' +\n",
              "            '<a target=\"_blank\" href=https://colab.research.google.com/notebooks/data_table.ipynb>data table notebook</a>'\n",
              "            + ' to learn more about interactive tables.';\n",
              "          element.innerHTML = '';\n",
              "          dataTable['output_type'] = 'display_data';\n",
              "          await google.colab.output.renderOutput(dataTable, element);\n",
              "          const docLink = document.createElement('div');\n",
              "          docLink.innerHTML = docLinkHtml;\n",
              "          element.appendChild(docLink);\n",
              "        }\n",
              "      </script>\n",
              "    </div>\n",
              "  </div>\n",
              "  "
            ]
          },
          "metadata": {},
          "execution_count": 5
        }
      ]
    },
    {
      "cell_type": "code",
      "source": [
        "# 1) df_tips içindeki Payment ID column'unun son 3 rakamını çekin. Bu işlemi 3 farklı yolla da yapmaya çalışın.\n",
        "\n",
        "\n",
        "def son4(x):\n",
        "  return str(x)[-3:]"
      ],
      "metadata": {
        "id": "21khQiTF3dhd"
      },
      "execution_count": 6,
      "outputs": []
    },
    {
      "cell_type": "code",
      "source": [
        "df_tips['Payment ID'].apply(son4)"
      ],
      "metadata": {
        "colab": {
          "base_uri": "https://localhost:8080/"
        },
        "id": "nARAtGKI4P7n",
        "outputId": "e5878a3e-11cf-4dea-cec8-3bb2b0f1d879"
      },
      "execution_count": 7,
      "outputs": [
        {
          "output_type": "execute_result",
          "data": {
            "text/plain": [
              "0      959\n",
              "1      608\n",
              "2      458\n",
              "3      260\n",
              "4      251\n",
              "      ... \n",
              "239    657\n",
              "240    766\n",
              "241    880\n",
              "242    t17\n",
              "243    672\n",
              "Name: Payment ID, Length: 244, dtype: object"
            ]
          },
          "metadata": {},
          "execution_count": 7
        }
      ]
    },
    {
      "cell_type": "code",
      "source": [
        "df_tips['Payment ID'].apply(lambda x: str(x)[-3:])"
      ],
      "metadata": {
        "colab": {
          "base_uri": "https://localhost:8080/"
        },
        "id": "Cin1OQ1a4Sez",
        "outputId": "cbae3579-265e-483f-9636-0fed7c30bf8e"
      },
      "execution_count": 8,
      "outputs": [
        {
          "output_type": "execute_result",
          "data": {
            "text/plain": [
              "0      959\n",
              "1      608\n",
              "2      458\n",
              "3      260\n",
              "4      251\n",
              "      ... \n",
              "239    657\n",
              "240    766\n",
              "241    880\n",
              "242    t17\n",
              "243    672\n",
              "Name: Payment ID, Length: 244, dtype: object"
            ]
          },
          "metadata": {},
          "execution_count": 8
        }
      ]
    },
    {
      "cell_type": "code",
      "source": [
        "df_tips['Payment ID'].astype(str).str[-3:]"
      ],
      "metadata": {
        "colab": {
          "base_uri": "https://localhost:8080/"
        },
        "id": "Q_DzTJzV4e75",
        "outputId": "ab60f33c-6730-4026-ceb0-d21e0d11afd1"
      },
      "execution_count": 9,
      "outputs": [
        {
          "output_type": "execute_result",
          "data": {
            "text/plain": [
              "0      959\n",
              "1      608\n",
              "2      458\n",
              "3      260\n",
              "4      251\n",
              "      ... \n",
              "239    657\n",
              "240    766\n",
              "241    880\n",
              "242    t17\n",
              "243    672\n",
              "Name: Payment ID, Length: 244, dtype: object"
            ]
          },
          "metadata": {},
          "execution_count": 9
        }
      ]
    },
    {
      "cell_type": "code",
      "source": [
        "# 2) df_tips içindeki Payer Name sütununda isim ve soy isim bilgileri bulunuyor.\n",
        "# O sütundan sadece isim bilgileri çekin ve 'JustName' adında yeni bir column oluşturun.\n",
        "# (Bu biraz zorlayıcı olabilir, Önce kendiniz yapmaya çalışın fakat yapamazsanız ChatGPT'ye soruyu düzgünce sorarak cevabını\n",
        "# kod olarak alabilirsiniz, ardından döndürülen kodu anlamaya çalışmanız yeterlidir.)\n",
        "\n",
        "df_tips['Payer Name']"
      ],
      "metadata": {
        "colab": {
          "base_uri": "https://localhost:8080/"
        },
        "id": "BqeAvChl4kL_",
        "outputId": "2e2bcbe2-000f-47c7-eaf9-05ddfba635cd"
      },
      "execution_count": 10,
      "outputs": [
        {
          "output_type": "execute_result",
          "data": {
            "text/plain": [
              "0      Christy Cunningham\n",
              "1          Douglas Tucker\n",
              "2          Travis Walters\n",
              "3        Nathaniel Harris\n",
              "4            Tonya Carter\n",
              "              ...        \n",
              "239         Michael Avila\n",
              "240        Monica Sanders\n",
              "241            Keith Wong\n",
              "242          Dennis Dixon\n",
              "243       Michelle Hardin\n",
              "Name: Payer Name, Length: 244, dtype: object"
            ]
          },
          "metadata": {},
          "execution_count": 10
        }
      ]
    },
    {
      "cell_type": "code",
      "source": [
        "def isim(x):\n",
        "    return x.split()[0]"
      ],
      "metadata": {
        "id": "qm3lD0za4-mu"
      },
      "execution_count": 11,
      "outputs": []
    },
    {
      "cell_type": "code",
      "source": [
        "df_tips['JustName'] = df_tips['Payer Name'].apply(isim)"
      ],
      "metadata": {
        "id": "H2bHQTKy6FGB"
      },
      "execution_count": 13,
      "outputs": []
    },
    {
      "cell_type": "code",
      "source": [
        "df_tips['JustName']"
      ],
      "metadata": {
        "colab": {
          "base_uri": "https://localhost:8080/"
        },
        "id": "ROFCSfF06IOV",
        "outputId": "3ce9630a-8e2d-490b-8825-7475c0e34b78"
      },
      "execution_count": 14,
      "outputs": [
        {
          "output_type": "execute_result",
          "data": {
            "text/plain": [
              "0        Christy\n",
              "1        Douglas\n",
              "2         Travis\n",
              "3      Nathaniel\n",
              "4          Tonya\n",
              "         ...    \n",
              "239      Michael\n",
              "240       Monica\n",
              "241        Keith\n",
              "242       Dennis\n",
              "243     Michelle\n",
              "Name: JustName, Length: 244, dtype: object"
            ]
          },
          "metadata": {},
          "execution_count": 14
        }
      ]
    },
    {
      "cell_type": "code",
      "source": [
        "# 3) 2.Soruda yeni oluşturduğunuz 'JustName' sütunundaki verilerin her birinden kaç tane olduğuna uygun methodu kullanarak bakın.\n",
        "\n",
        "df_tips['JustName'].value_counts()"
      ],
      "metadata": {
        "colab": {
          "base_uri": "https://localhost:8080/"
        },
        "id": "pl4aUpwh6Nz2",
        "outputId": "3d3471e7-c850-4b56-cc90-bcd8a4ac3376"
      },
      "execution_count": 15,
      "outputs": [
        {
          "output_type": "execute_result",
          "data": {
            "text/plain": [
              "Jason          9\n",
              "Michael        7\n",
              "James          6\n",
              "David          6\n",
              "Christopher    5\n",
              "              ..\n",
              "Shawna         1\n",
              "Louis          1\n",
              "Chris          1\n",
              "Mark           1\n",
              "Michelle       1\n",
              "Name: JustName, Length: 153, dtype: int64"
            ]
          },
          "metadata": {},
          "execution_count": 15
        }
      ]
    },
    {
      "cell_type": "code",
      "source": [
        "# 4) 3.Soruda gördüğünüz gibi JustName sütununda 'Jason' isminden 9 tane, 'Michael' isminden 7 tane , 'James' isminden 6 tane bulunuyor.\n",
        "# Peki bunların hepsi gerçekten farklı kişiler mi ? Hemen 'Payer Name' sütunundaki verilerin adetlerini de saydırtarak bir kıyaslama yapın.\n",
        "# 'JustName' sütununu kullanmanın faydasız ve yanıltıcı olabileceğini görün ardından oluşturduğumuz 'JustName' sütununu kalıcı olarak drop edin.\n",
        "# (Oluşturmanız için bir pratikti bu sütun sadece :D)\n",
        "\n",
        "df_tips['Payer Name'].value_counts()"
      ],
      "metadata": {
        "colab": {
          "base_uri": "https://localhost:8080/"
        },
        "id": "BMFwO9hE6fME",
        "outputId": "fa2e8255-a257-4592-af95-596bd6426a0b"
      },
      "execution_count": 16,
      "outputs": [
        {
          "output_type": "execute_result",
          "data": {
            "text/plain": [
              "Christy Cunningham    1\n",
              "Todd Patterson        1\n",
              "Madison Wilson        1\n",
              "Ryan Gonzales         1\n",
              "Laura Robles          1\n",
              "                     ..\n",
              "Shawna Cook           1\n",
              "Derek Thomas          1\n",
              "Donald Williams       1\n",
              "Roger Taylor          1\n",
              "Michelle Hardin       1\n",
              "Name: Payer Name, Length: 244, dtype: int64"
            ]
          },
          "metadata": {},
          "execution_count": 16
        }
      ]
    },
    {
      "cell_type": "code",
      "source": [
        "df_tips.drop('JustName', axis=1, inplace=True)"
      ],
      "metadata": {
        "id": "-ym4qrK76xjY"
      },
      "execution_count": 17,
      "outputs": []
    },
    {
      "cell_type": "code",
      "source": [
        "# 5) Erkeklerin ve kadınların davranış patternlerini ayrı ayrı inceleyip yorumda bulunabilmek için 'df_male' ve 'df_female' adında 2 dataframe oluşturun.\n",
        "# Birinde sadece 157 erkek verisi, diğerinde sadece 87 kadın verisi bulunsun.\n",
        "\n",
        "df_male = df_tips[df_tips['sex'] == 'Male']\n",
        "df_female= df_tips[df_tips['sex'] == 'Female']"
      ],
      "metadata": {
        "id": "AFJaqmP97M6e"
      },
      "execution_count": 29,
      "outputs": []
    },
    {
      "cell_type": "code",
      "source": [
        "df_male"
      ],
      "metadata": {
        "colab": {
          "base_uri": "https://localhost:8080/",
          "height": 423
        },
        "id": "sLg-suOs7dFi",
        "outputId": "fc77d8ec-dfed-4c43-81ff-c17a45c5b1be"
      },
      "execution_count": 30,
      "outputs": [
        {
          "output_type": "execute_result",
          "data": {
            "text/plain": [
              "     total_bill   tip   sex smoker  day    time  size  price_per_person  \\\n",
              "1         10.34  1.66  Male     No  Sun  Dinner     3              3.45   \n",
              "2         21.01  3.50  Male     No  Sun  Dinner     3              7.00   \n",
              "3         23.68  3.31  Male     No  Sun  Dinner     2             11.84   \n",
              "5         25.29  4.71  Male     No  Sun  Dinner     4              6.32   \n",
              "6          8.77  2.00  Male     No  Sun  Dinner     2              4.38   \n",
              "..          ...   ...   ...    ...  ...     ...   ...               ...   \n",
              "236       12.60  1.00  Male    Yes  Sat  Dinner     2              6.30   \n",
              "237       32.83  1.17  Male    Yes  Sat  Dinner     2             16.42   \n",
              "239       29.03  5.92  Male     No  Sat  Dinner     3              9.68   \n",
              "241       22.67  2.00  Male    Yes  Sat  Dinner     2             11.34   \n",
              "242       17.82  1.75  Male     No  Sat  Dinner     2              8.91   \n",
              "\n",
              "             Payer Name         CC Number Payment ID  \n",
              "1        Douglas Tucker  4478071379779230    Sun4608  \n",
              "2        Travis Walters  6011812112971322    Sun4458  \n",
              "3      Nathaniel Harris  4676137647685994    Sun5260  \n",
              "5            Erik Smith   213140353657882    Sun9679  \n",
              "6    Kristopher Johnson  2223727524230344    Sun5985  \n",
              "..                  ...               ...        ...  \n",
              "236       Matthew Myers  3543676378973965    Sat5032  \n",
              "237        Thomas Brown  4284722681265508    Sat2929  \n",
              "239       Michael Avila  5296068606052842    Sat2657  \n",
              "241          Keith Wong  6011891618747196    Sat3880  \n",
              "242        Dennis Dixon     4375220550950      Sat17  \n",
              "\n",
              "[157 rows x 11 columns]"
            ],
            "text/html": [
              "\n",
              "  <div id=\"df-ca26b7af-7811-4db5-9098-29e1c30141de\">\n",
              "    <div class=\"colab-df-container\">\n",
              "      <div>\n",
              "<style scoped>\n",
              "    .dataframe tbody tr th:only-of-type {\n",
              "        vertical-align: middle;\n",
              "    }\n",
              "\n",
              "    .dataframe tbody tr th {\n",
              "        vertical-align: top;\n",
              "    }\n",
              "\n",
              "    .dataframe thead th {\n",
              "        text-align: right;\n",
              "    }\n",
              "</style>\n",
              "<table border=\"1\" class=\"dataframe\">\n",
              "  <thead>\n",
              "    <tr style=\"text-align: right;\">\n",
              "      <th></th>\n",
              "      <th>total_bill</th>\n",
              "      <th>tip</th>\n",
              "      <th>sex</th>\n",
              "      <th>smoker</th>\n",
              "      <th>day</th>\n",
              "      <th>time</th>\n",
              "      <th>size</th>\n",
              "      <th>price_per_person</th>\n",
              "      <th>Payer Name</th>\n",
              "      <th>CC Number</th>\n",
              "      <th>Payment ID</th>\n",
              "    </tr>\n",
              "  </thead>\n",
              "  <tbody>\n",
              "    <tr>\n",
              "      <th>1</th>\n",
              "      <td>10.34</td>\n",
              "      <td>1.66</td>\n",
              "      <td>Male</td>\n",
              "      <td>No</td>\n",
              "      <td>Sun</td>\n",
              "      <td>Dinner</td>\n",
              "      <td>3</td>\n",
              "      <td>3.45</td>\n",
              "      <td>Douglas Tucker</td>\n",
              "      <td>4478071379779230</td>\n",
              "      <td>Sun4608</td>\n",
              "    </tr>\n",
              "    <tr>\n",
              "      <th>2</th>\n",
              "      <td>21.01</td>\n",
              "      <td>3.50</td>\n",
              "      <td>Male</td>\n",
              "      <td>No</td>\n",
              "      <td>Sun</td>\n",
              "      <td>Dinner</td>\n",
              "      <td>3</td>\n",
              "      <td>7.00</td>\n",
              "      <td>Travis Walters</td>\n",
              "      <td>6011812112971322</td>\n",
              "      <td>Sun4458</td>\n",
              "    </tr>\n",
              "    <tr>\n",
              "      <th>3</th>\n",
              "      <td>23.68</td>\n",
              "      <td>3.31</td>\n",
              "      <td>Male</td>\n",
              "      <td>No</td>\n",
              "      <td>Sun</td>\n",
              "      <td>Dinner</td>\n",
              "      <td>2</td>\n",
              "      <td>11.84</td>\n",
              "      <td>Nathaniel Harris</td>\n",
              "      <td>4676137647685994</td>\n",
              "      <td>Sun5260</td>\n",
              "    </tr>\n",
              "    <tr>\n",
              "      <th>5</th>\n",
              "      <td>25.29</td>\n",
              "      <td>4.71</td>\n",
              "      <td>Male</td>\n",
              "      <td>No</td>\n",
              "      <td>Sun</td>\n",
              "      <td>Dinner</td>\n",
              "      <td>4</td>\n",
              "      <td>6.32</td>\n",
              "      <td>Erik Smith</td>\n",
              "      <td>213140353657882</td>\n",
              "      <td>Sun9679</td>\n",
              "    </tr>\n",
              "    <tr>\n",
              "      <th>6</th>\n",
              "      <td>8.77</td>\n",
              "      <td>2.00</td>\n",
              "      <td>Male</td>\n",
              "      <td>No</td>\n",
              "      <td>Sun</td>\n",
              "      <td>Dinner</td>\n",
              "      <td>2</td>\n",
              "      <td>4.38</td>\n",
              "      <td>Kristopher Johnson</td>\n",
              "      <td>2223727524230344</td>\n",
              "      <td>Sun5985</td>\n",
              "    </tr>\n",
              "    <tr>\n",
              "      <th>...</th>\n",
              "      <td>...</td>\n",
              "      <td>...</td>\n",
              "      <td>...</td>\n",
              "      <td>...</td>\n",
              "      <td>...</td>\n",
              "      <td>...</td>\n",
              "      <td>...</td>\n",
              "      <td>...</td>\n",
              "      <td>...</td>\n",
              "      <td>...</td>\n",
              "      <td>...</td>\n",
              "    </tr>\n",
              "    <tr>\n",
              "      <th>236</th>\n",
              "      <td>12.60</td>\n",
              "      <td>1.00</td>\n",
              "      <td>Male</td>\n",
              "      <td>Yes</td>\n",
              "      <td>Sat</td>\n",
              "      <td>Dinner</td>\n",
              "      <td>2</td>\n",
              "      <td>6.30</td>\n",
              "      <td>Matthew Myers</td>\n",
              "      <td>3543676378973965</td>\n",
              "      <td>Sat5032</td>\n",
              "    </tr>\n",
              "    <tr>\n",
              "      <th>237</th>\n",
              "      <td>32.83</td>\n",
              "      <td>1.17</td>\n",
              "      <td>Male</td>\n",
              "      <td>Yes</td>\n",
              "      <td>Sat</td>\n",
              "      <td>Dinner</td>\n",
              "      <td>2</td>\n",
              "      <td>16.42</td>\n",
              "      <td>Thomas Brown</td>\n",
              "      <td>4284722681265508</td>\n",
              "      <td>Sat2929</td>\n",
              "    </tr>\n",
              "    <tr>\n",
              "      <th>239</th>\n",
              "      <td>29.03</td>\n",
              "      <td>5.92</td>\n",
              "      <td>Male</td>\n",
              "      <td>No</td>\n",
              "      <td>Sat</td>\n",
              "      <td>Dinner</td>\n",
              "      <td>3</td>\n",
              "      <td>9.68</td>\n",
              "      <td>Michael Avila</td>\n",
              "      <td>5296068606052842</td>\n",
              "      <td>Sat2657</td>\n",
              "    </tr>\n",
              "    <tr>\n",
              "      <th>241</th>\n",
              "      <td>22.67</td>\n",
              "      <td>2.00</td>\n",
              "      <td>Male</td>\n",
              "      <td>Yes</td>\n",
              "      <td>Sat</td>\n",
              "      <td>Dinner</td>\n",
              "      <td>2</td>\n",
              "      <td>11.34</td>\n",
              "      <td>Keith Wong</td>\n",
              "      <td>6011891618747196</td>\n",
              "      <td>Sat3880</td>\n",
              "    </tr>\n",
              "    <tr>\n",
              "      <th>242</th>\n",
              "      <td>17.82</td>\n",
              "      <td>1.75</td>\n",
              "      <td>Male</td>\n",
              "      <td>No</td>\n",
              "      <td>Sat</td>\n",
              "      <td>Dinner</td>\n",
              "      <td>2</td>\n",
              "      <td>8.91</td>\n",
              "      <td>Dennis Dixon</td>\n",
              "      <td>4375220550950</td>\n",
              "      <td>Sat17</td>\n",
              "    </tr>\n",
              "  </tbody>\n",
              "</table>\n",
              "<p>157 rows × 11 columns</p>\n",
              "</div>\n",
              "      <button class=\"colab-df-convert\" onclick=\"convertToInteractive('df-ca26b7af-7811-4db5-9098-29e1c30141de')\"\n",
              "              title=\"Convert this dataframe to an interactive table.\"\n",
              "              style=\"display:none;\">\n",
              "        \n",
              "  <svg xmlns=\"http://www.w3.org/2000/svg\" height=\"24px\"viewBox=\"0 0 24 24\"\n",
              "       width=\"24px\">\n",
              "    <path d=\"M0 0h24v24H0V0z\" fill=\"none\"/>\n",
              "    <path d=\"M18.56 5.44l.94 2.06.94-2.06 2.06-.94-2.06-.94-.94-2.06-.94 2.06-2.06.94zm-11 1L8.5 8.5l.94-2.06 2.06-.94-2.06-.94L8.5 2.5l-.94 2.06-2.06.94zm10 10l.94 2.06.94-2.06 2.06-.94-2.06-.94-.94-2.06-.94 2.06-2.06.94z\"/><path d=\"M17.41 7.96l-1.37-1.37c-.4-.4-.92-.59-1.43-.59-.52 0-1.04.2-1.43.59L10.3 9.45l-7.72 7.72c-.78.78-.78 2.05 0 2.83L4 21.41c.39.39.9.59 1.41.59.51 0 1.02-.2 1.41-.59l7.78-7.78 2.81-2.81c.8-.78.8-2.07 0-2.86zM5.41 20L4 18.59l7.72-7.72 1.47 1.35L5.41 20z\"/>\n",
              "  </svg>\n",
              "      </button>\n",
              "      \n",
              "  <style>\n",
              "    .colab-df-container {\n",
              "      display:flex;\n",
              "      flex-wrap:wrap;\n",
              "      gap: 12px;\n",
              "    }\n",
              "\n",
              "    .colab-df-convert {\n",
              "      background-color: #E8F0FE;\n",
              "      border: none;\n",
              "      border-radius: 50%;\n",
              "      cursor: pointer;\n",
              "      display: none;\n",
              "      fill: #1967D2;\n",
              "      height: 32px;\n",
              "      padding: 0 0 0 0;\n",
              "      width: 32px;\n",
              "    }\n",
              "\n",
              "    .colab-df-convert:hover {\n",
              "      background-color: #E2EBFA;\n",
              "      box-shadow: 0px 1px 2px rgba(60, 64, 67, 0.3), 0px 1px 3px 1px rgba(60, 64, 67, 0.15);\n",
              "      fill: #174EA6;\n",
              "    }\n",
              "\n",
              "    [theme=dark] .colab-df-convert {\n",
              "      background-color: #3B4455;\n",
              "      fill: #D2E3FC;\n",
              "    }\n",
              "\n",
              "    [theme=dark] .colab-df-convert:hover {\n",
              "      background-color: #434B5C;\n",
              "      box-shadow: 0px 1px 3px 1px rgba(0, 0, 0, 0.15);\n",
              "      filter: drop-shadow(0px 1px 2px rgba(0, 0, 0, 0.3));\n",
              "      fill: #FFFFFF;\n",
              "    }\n",
              "  </style>\n",
              "\n",
              "      <script>\n",
              "        const buttonEl =\n",
              "          document.querySelector('#df-ca26b7af-7811-4db5-9098-29e1c30141de button.colab-df-convert');\n",
              "        buttonEl.style.display =\n",
              "          google.colab.kernel.accessAllowed ? 'block' : 'none';\n",
              "\n",
              "        async function convertToInteractive(key) {\n",
              "          const element = document.querySelector('#df-ca26b7af-7811-4db5-9098-29e1c30141de');\n",
              "          const dataTable =\n",
              "            await google.colab.kernel.invokeFunction('convertToInteractive',\n",
              "                                                     [key], {});\n",
              "          if (!dataTable) return;\n",
              "\n",
              "          const docLinkHtml = 'Like what you see? Visit the ' +\n",
              "            '<a target=\"_blank\" href=https://colab.research.google.com/notebooks/data_table.ipynb>data table notebook</a>'\n",
              "            + ' to learn more about interactive tables.';\n",
              "          element.innerHTML = '';\n",
              "          dataTable['output_type'] = 'display_data';\n",
              "          await google.colab.output.renderOutput(dataTable, element);\n",
              "          const docLink = document.createElement('div');\n",
              "          docLink.innerHTML = docLinkHtml;\n",
              "          element.appendChild(docLink);\n",
              "        }\n",
              "      </script>\n",
              "    </div>\n",
              "  </div>\n",
              "  "
            ]
          },
          "metadata": {},
          "execution_count": 30
        }
      ]
    },
    {
      "cell_type": "code",
      "source": [
        "df_female"
      ],
      "metadata": {
        "colab": {
          "base_uri": "https://localhost:8080/",
          "height": 423
        },
        "id": "AoOa_RYO73IU",
        "outputId": "b7d217f3-1a4f-4e94-f426-b5589df4b041"
      },
      "execution_count": 31,
      "outputs": [
        {
          "output_type": "execute_result",
          "data": {
            "text/plain": [
              "     total_bill   tip     sex smoker   day    time  size  price_per_person  \\\n",
              "0         16.99  1.01  Female     No   Sun  Dinner     2              8.49   \n",
              "4         24.59  3.61  Female     No   Sun  Dinner     4              6.15   \n",
              "11        35.26  5.00  Female     No   Sun  Dinner     4              8.82   \n",
              "14        14.83  3.02  Female     No   Sun  Dinner     2              7.42   \n",
              "16        10.33  1.67  Female     No   Sun  Dinner     3              3.44   \n",
              "..          ...   ...     ...    ...   ...     ...   ...               ...   \n",
              "226       10.09  2.00  Female    Yes   Fri   Lunch     2              5.04   \n",
              "229       22.12  2.88  Female    Yes   Sat  Dinner     2             11.06   \n",
              "238       35.83  4.67  Female     No   Sat  Dinner     3             11.94   \n",
              "240       27.18  2.00  Female    Yes   Sat  Dinner     2             13.59   \n",
              "243       18.78  3.00  Female     No  Thur  Dinner     2              9.39   \n",
              "\n",
              "             Payer Name         CC Number Payment ID  \n",
              "0    Christy Cunningham  3560325168603410    Sun2959  \n",
              "4          Tonya Carter  4832732618637221    Sun2251  \n",
              "11         Diane Macias  4577817359320969    Sun6686  \n",
              "14        Vanessa Jones    30016702287574    Sun3848  \n",
              "16     Elizabeth Foster  4240025044626033    Sun9715  \n",
              "..                  ...               ...        ...  \n",
              "226          Ruth Weiss  5268689490381635    Fri6359  \n",
              "229    Jennifer Russell     4793003293608    Sat3943  \n",
              "238      Kimberly Crane      676184013727    Sat9777  \n",
              "240      Monica Sanders  3506806155565404    Sat1766  \n",
              "243     Michelle Hardin  3511451626698139    Thur672  \n",
              "\n",
              "[87 rows x 11 columns]"
            ],
            "text/html": [
              "\n",
              "  <div id=\"df-7544db2e-10fd-4e01-b50a-0acb18058904\">\n",
              "    <div class=\"colab-df-container\">\n",
              "      <div>\n",
              "<style scoped>\n",
              "    .dataframe tbody tr th:only-of-type {\n",
              "        vertical-align: middle;\n",
              "    }\n",
              "\n",
              "    .dataframe tbody tr th {\n",
              "        vertical-align: top;\n",
              "    }\n",
              "\n",
              "    .dataframe thead th {\n",
              "        text-align: right;\n",
              "    }\n",
              "</style>\n",
              "<table border=\"1\" class=\"dataframe\">\n",
              "  <thead>\n",
              "    <tr style=\"text-align: right;\">\n",
              "      <th></th>\n",
              "      <th>total_bill</th>\n",
              "      <th>tip</th>\n",
              "      <th>sex</th>\n",
              "      <th>smoker</th>\n",
              "      <th>day</th>\n",
              "      <th>time</th>\n",
              "      <th>size</th>\n",
              "      <th>price_per_person</th>\n",
              "      <th>Payer Name</th>\n",
              "      <th>CC Number</th>\n",
              "      <th>Payment ID</th>\n",
              "    </tr>\n",
              "  </thead>\n",
              "  <tbody>\n",
              "    <tr>\n",
              "      <th>0</th>\n",
              "      <td>16.99</td>\n",
              "      <td>1.01</td>\n",
              "      <td>Female</td>\n",
              "      <td>No</td>\n",
              "      <td>Sun</td>\n",
              "      <td>Dinner</td>\n",
              "      <td>2</td>\n",
              "      <td>8.49</td>\n",
              "      <td>Christy Cunningham</td>\n",
              "      <td>3560325168603410</td>\n",
              "      <td>Sun2959</td>\n",
              "    </tr>\n",
              "    <tr>\n",
              "      <th>4</th>\n",
              "      <td>24.59</td>\n",
              "      <td>3.61</td>\n",
              "      <td>Female</td>\n",
              "      <td>No</td>\n",
              "      <td>Sun</td>\n",
              "      <td>Dinner</td>\n",
              "      <td>4</td>\n",
              "      <td>6.15</td>\n",
              "      <td>Tonya Carter</td>\n",
              "      <td>4832732618637221</td>\n",
              "      <td>Sun2251</td>\n",
              "    </tr>\n",
              "    <tr>\n",
              "      <th>11</th>\n",
              "      <td>35.26</td>\n",
              "      <td>5.00</td>\n",
              "      <td>Female</td>\n",
              "      <td>No</td>\n",
              "      <td>Sun</td>\n",
              "      <td>Dinner</td>\n",
              "      <td>4</td>\n",
              "      <td>8.82</td>\n",
              "      <td>Diane Macias</td>\n",
              "      <td>4577817359320969</td>\n",
              "      <td>Sun6686</td>\n",
              "    </tr>\n",
              "    <tr>\n",
              "      <th>14</th>\n",
              "      <td>14.83</td>\n",
              "      <td>3.02</td>\n",
              "      <td>Female</td>\n",
              "      <td>No</td>\n",
              "      <td>Sun</td>\n",
              "      <td>Dinner</td>\n",
              "      <td>2</td>\n",
              "      <td>7.42</td>\n",
              "      <td>Vanessa Jones</td>\n",
              "      <td>30016702287574</td>\n",
              "      <td>Sun3848</td>\n",
              "    </tr>\n",
              "    <tr>\n",
              "      <th>16</th>\n",
              "      <td>10.33</td>\n",
              "      <td>1.67</td>\n",
              "      <td>Female</td>\n",
              "      <td>No</td>\n",
              "      <td>Sun</td>\n",
              "      <td>Dinner</td>\n",
              "      <td>3</td>\n",
              "      <td>3.44</td>\n",
              "      <td>Elizabeth Foster</td>\n",
              "      <td>4240025044626033</td>\n",
              "      <td>Sun9715</td>\n",
              "    </tr>\n",
              "    <tr>\n",
              "      <th>...</th>\n",
              "      <td>...</td>\n",
              "      <td>...</td>\n",
              "      <td>...</td>\n",
              "      <td>...</td>\n",
              "      <td>...</td>\n",
              "      <td>...</td>\n",
              "      <td>...</td>\n",
              "      <td>...</td>\n",
              "      <td>...</td>\n",
              "      <td>...</td>\n",
              "      <td>...</td>\n",
              "    </tr>\n",
              "    <tr>\n",
              "      <th>226</th>\n",
              "      <td>10.09</td>\n",
              "      <td>2.00</td>\n",
              "      <td>Female</td>\n",
              "      <td>Yes</td>\n",
              "      <td>Fri</td>\n",
              "      <td>Lunch</td>\n",
              "      <td>2</td>\n",
              "      <td>5.04</td>\n",
              "      <td>Ruth Weiss</td>\n",
              "      <td>5268689490381635</td>\n",
              "      <td>Fri6359</td>\n",
              "    </tr>\n",
              "    <tr>\n",
              "      <th>229</th>\n",
              "      <td>22.12</td>\n",
              "      <td>2.88</td>\n",
              "      <td>Female</td>\n",
              "      <td>Yes</td>\n",
              "      <td>Sat</td>\n",
              "      <td>Dinner</td>\n",
              "      <td>2</td>\n",
              "      <td>11.06</td>\n",
              "      <td>Jennifer Russell</td>\n",
              "      <td>4793003293608</td>\n",
              "      <td>Sat3943</td>\n",
              "    </tr>\n",
              "    <tr>\n",
              "      <th>238</th>\n",
              "      <td>35.83</td>\n",
              "      <td>4.67</td>\n",
              "      <td>Female</td>\n",
              "      <td>No</td>\n",
              "      <td>Sat</td>\n",
              "      <td>Dinner</td>\n",
              "      <td>3</td>\n",
              "      <td>11.94</td>\n",
              "      <td>Kimberly Crane</td>\n",
              "      <td>676184013727</td>\n",
              "      <td>Sat9777</td>\n",
              "    </tr>\n",
              "    <tr>\n",
              "      <th>240</th>\n",
              "      <td>27.18</td>\n",
              "      <td>2.00</td>\n",
              "      <td>Female</td>\n",
              "      <td>Yes</td>\n",
              "      <td>Sat</td>\n",
              "      <td>Dinner</td>\n",
              "      <td>2</td>\n",
              "      <td>13.59</td>\n",
              "      <td>Monica Sanders</td>\n",
              "      <td>3506806155565404</td>\n",
              "      <td>Sat1766</td>\n",
              "    </tr>\n",
              "    <tr>\n",
              "      <th>243</th>\n",
              "      <td>18.78</td>\n",
              "      <td>3.00</td>\n",
              "      <td>Female</td>\n",
              "      <td>No</td>\n",
              "      <td>Thur</td>\n",
              "      <td>Dinner</td>\n",
              "      <td>2</td>\n",
              "      <td>9.39</td>\n",
              "      <td>Michelle Hardin</td>\n",
              "      <td>3511451626698139</td>\n",
              "      <td>Thur672</td>\n",
              "    </tr>\n",
              "  </tbody>\n",
              "</table>\n",
              "<p>87 rows × 11 columns</p>\n",
              "</div>\n",
              "      <button class=\"colab-df-convert\" onclick=\"convertToInteractive('df-7544db2e-10fd-4e01-b50a-0acb18058904')\"\n",
              "              title=\"Convert this dataframe to an interactive table.\"\n",
              "              style=\"display:none;\">\n",
              "        \n",
              "  <svg xmlns=\"http://www.w3.org/2000/svg\" height=\"24px\"viewBox=\"0 0 24 24\"\n",
              "       width=\"24px\">\n",
              "    <path d=\"M0 0h24v24H0V0z\" fill=\"none\"/>\n",
              "    <path d=\"M18.56 5.44l.94 2.06.94-2.06 2.06-.94-2.06-.94-.94-2.06-.94 2.06-2.06.94zm-11 1L8.5 8.5l.94-2.06 2.06-.94-2.06-.94L8.5 2.5l-.94 2.06-2.06.94zm10 10l.94 2.06.94-2.06 2.06-.94-2.06-.94-.94-2.06-.94 2.06-2.06.94z\"/><path d=\"M17.41 7.96l-1.37-1.37c-.4-.4-.92-.59-1.43-.59-.52 0-1.04.2-1.43.59L10.3 9.45l-7.72 7.72c-.78.78-.78 2.05 0 2.83L4 21.41c.39.39.9.59 1.41.59.51 0 1.02-.2 1.41-.59l7.78-7.78 2.81-2.81c.8-.78.8-2.07 0-2.86zM5.41 20L4 18.59l7.72-7.72 1.47 1.35L5.41 20z\"/>\n",
              "  </svg>\n",
              "      </button>\n",
              "      \n",
              "  <style>\n",
              "    .colab-df-container {\n",
              "      display:flex;\n",
              "      flex-wrap:wrap;\n",
              "      gap: 12px;\n",
              "    }\n",
              "\n",
              "    .colab-df-convert {\n",
              "      background-color: #E8F0FE;\n",
              "      border: none;\n",
              "      border-radius: 50%;\n",
              "      cursor: pointer;\n",
              "      display: none;\n",
              "      fill: #1967D2;\n",
              "      height: 32px;\n",
              "      padding: 0 0 0 0;\n",
              "      width: 32px;\n",
              "    }\n",
              "\n",
              "    .colab-df-convert:hover {\n",
              "      background-color: #E2EBFA;\n",
              "      box-shadow: 0px 1px 2px rgba(60, 64, 67, 0.3), 0px 1px 3px 1px rgba(60, 64, 67, 0.15);\n",
              "      fill: #174EA6;\n",
              "    }\n",
              "\n",
              "    [theme=dark] .colab-df-convert {\n",
              "      background-color: #3B4455;\n",
              "      fill: #D2E3FC;\n",
              "    }\n",
              "\n",
              "    [theme=dark] .colab-df-convert:hover {\n",
              "      background-color: #434B5C;\n",
              "      box-shadow: 0px 1px 3px 1px rgba(0, 0, 0, 0.15);\n",
              "      filter: drop-shadow(0px 1px 2px rgba(0, 0, 0, 0.3));\n",
              "      fill: #FFFFFF;\n",
              "    }\n",
              "  </style>\n",
              "\n",
              "      <script>\n",
              "        const buttonEl =\n",
              "          document.querySelector('#df-7544db2e-10fd-4e01-b50a-0acb18058904 button.colab-df-convert');\n",
              "        buttonEl.style.display =\n",
              "          google.colab.kernel.accessAllowed ? 'block' : 'none';\n",
              "\n",
              "        async function convertToInteractive(key) {\n",
              "          const element = document.querySelector('#df-7544db2e-10fd-4e01-b50a-0acb18058904');\n",
              "          const dataTable =\n",
              "            await google.colab.kernel.invokeFunction('convertToInteractive',\n",
              "                                                     [key], {});\n",
              "          if (!dataTable) return;\n",
              "\n",
              "          const docLinkHtml = 'Like what you see? Visit the ' +\n",
              "            '<a target=\"_blank\" href=https://colab.research.google.com/notebooks/data_table.ipynb>data table notebook</a>'\n",
              "            + ' to learn more about interactive tables.';\n",
              "          element.innerHTML = '';\n",
              "          dataTable['output_type'] = 'display_data';\n",
              "          await google.colab.output.renderOutput(dataTable, element);\n",
              "          const docLink = document.createElement('div');\n",
              "          docLink.innerHTML = docLinkHtml;\n",
              "          element.appendChild(docLink);\n",
              "        }\n",
              "      </script>\n",
              "    </div>\n",
              "  </div>\n",
              "  "
            ]
          },
          "metadata": {},
          "execution_count": 31
        }
      ]
    },
    {
      "cell_type": "code",
      "source": [
        "# 6) Ardından bu 'df_male' ile 'df_female' 'in ödedikleri bahşişler toplamını bulup karşılaştırın.\n",
        "\n",
        "df_male['tip'].sum()"
      ],
      "metadata": {
        "colab": {
          "base_uri": "https://localhost:8080/"
        },
        "id": "fQZkQ1Lb8Aq3",
        "outputId": "e5b8a69e-c06c-4dd7-ca07-6971221a5435"
      },
      "execution_count": 33,
      "outputs": [
        {
          "output_type": "execute_result",
          "data": {
            "text/plain": [
              "485.07"
            ]
          },
          "metadata": {},
          "execution_count": 33
        }
      ]
    },
    {
      "cell_type": "code",
      "source": [
        "df_female['tip'].sum()"
      ],
      "metadata": {
        "colab": {
          "base_uri": "https://localhost:8080/"
        },
        "id": "XgO2mEuH8K60",
        "outputId": "88145a41-9b58-4e02-db87-2c7ab78aa955"
      },
      "execution_count": 35,
      "outputs": [
        {
          "output_type": "execute_result",
          "data": {
            "text/plain": [
              "246.50999999999996"
            ]
          },
          "metadata": {},
          "execution_count": 35
        }
      ]
    },
    {
      "cell_type": "code",
      "source": [
        "# 7) 6.Soruda erkeklerin ve kadınların ödedikleri bahşişler toplamına bakıldığında Erkeklerin kadınlara kıyasla toplamda daha çok bahşiş ödediğini görüyoruz.\n",
        "# Fakat biz biliyoruz ki bizim verimizde 157 Erkek, 87 kadın verisi vardı.\n",
        "# Dolayısıyla Erkek sayısı daha fazla olduğu için toplam ödeyecekleri bahşiş miktarlarında da daha fazla çıkması oldukça normal bir durum.\n",
        "# Bu yüzden daha mantıklı bir çıkarım için bu sefer df_male ile df_female'in bahşiş ORTALAMALARIN'a bakıp kıyaslayın, aralarında anlamlı ve ciddi bir fark var mı ?\n",
        "\n",
        "df_male['tip'].mean()"
      ],
      "metadata": {
        "colab": {
          "base_uri": "https://localhost:8080/"
        },
        "id": "AZkYU2LD8YwI",
        "outputId": "f3f34331-75ed-45de-9b7d-fa550a224bfe"
      },
      "execution_count": 36,
      "outputs": [
        {
          "output_type": "execute_result",
          "data": {
            "text/plain": [
              "3.0896178343949043"
            ]
          },
          "metadata": {},
          "execution_count": 36
        }
      ]
    },
    {
      "cell_type": "code",
      "source": [
        "df_female['tip'].mean()"
      ],
      "metadata": {
        "colab": {
          "base_uri": "https://localhost:8080/"
        },
        "id": "hqkMW3Ct8u3x",
        "outputId": "f45e4c59-dc8d-4e00-98ff-8010cf02a79f"
      },
      "execution_count": 37,
      "outputs": [
        {
          "output_type": "execute_result",
          "data": {
            "text/plain": [
              "2.8334482758620685"
            ]
          },
          "metadata": {},
          "execution_count": 37
        }
      ]
    },
    {
      "cell_type": "code",
      "source": [
        "# Çok bir fark yok."
      ],
      "metadata": {
        "id": "8jzpvCqN8wap"
      },
      "execution_count": 38,
      "outputs": []
    },
    {
      "cell_type": "code",
      "source": [
        "# 9) Erkeklerin zaman olarak dinnerda mı yoksa lunch'da mı daha fazla yemek yediğini yüzdesel olarak bulun.\n",
        "# Aynı işlemi kadınlar için de yapın. Yüzdesel olarak erkeklerin ve kadınların yemek yeme vakitleri arasında anlamlı bir fark var mı yok mu yorumlayın.\n",
        "\n",
        "df_male['time'].value_counts()"
      ],
      "metadata": {
        "colab": {
          "base_uri": "https://localhost:8080/"
        },
        "id": "qRx7f1MJ82TA",
        "outputId": "b240a879-f68d-4d4f-c611-28c8d4b1c561"
      },
      "execution_count": 40,
      "outputs": [
        {
          "output_type": "execute_result",
          "data": {
            "text/plain": [
              "Dinner    124\n",
              "Lunch      33\n",
              "Name: time, dtype: int64"
            ]
          },
          "metadata": {},
          "execution_count": 40
        }
      ]
    },
    {
      "cell_type": "code",
      "source": [
        "df_male['time'].value_counts() / df_male['total_bill'].count() * 100"
      ],
      "metadata": {
        "colab": {
          "base_uri": "https://localhost:8080/"
        },
        "id": "n8STSceD_KLa",
        "outputId": "a4b621a0-5402-4011-f46f-b2e31b8d3ca5"
      },
      "execution_count": 43,
      "outputs": [
        {
          "output_type": "execute_result",
          "data": {
            "text/plain": [
              "Dinner    78.980892\n",
              "Lunch     21.019108\n",
              "Name: time, dtype: float64"
            ]
          },
          "metadata": {},
          "execution_count": 43
        }
      ]
    },
    {
      "cell_type": "code",
      "source": [
        "df_female['time'].value_counts()"
      ],
      "metadata": {
        "colab": {
          "base_uri": "https://localhost:8080/"
        },
        "id": "tIjSuagy_cLn",
        "outputId": "131d5bbb-ccd6-417f-a8c8-b7dfce6caca2"
      },
      "execution_count": 44,
      "outputs": [
        {
          "output_type": "execute_result",
          "data": {
            "text/plain": [
              "Dinner    52\n",
              "Lunch     35\n",
              "Name: time, dtype: int64"
            ]
          },
          "metadata": {},
          "execution_count": 44
        }
      ]
    },
    {
      "cell_type": "code",
      "source": [
        "df_female['time'].value_counts() / df_female['total_bill'].count() * 100"
      ],
      "metadata": {
        "colab": {
          "base_uri": "https://localhost:8080/"
        },
        "id": "kMuIiTqf_-kW",
        "outputId": "4d620960-4462-4bbb-ca88-14d98120bf13"
      },
      "execution_count": 45,
      "outputs": [
        {
          "output_type": "execute_result",
          "data": {
            "text/plain": [
              "Dinner    59.770115\n",
              "Lunch     40.229885\n",
              "Name: time, dtype: float64"
            ]
          },
          "metadata": {},
          "execution_count": 45
        }
      ]
    },
    {
      "cell_type": "code",
      "source": [
        "# Erkekler daha çok dinner vakti yemek yemeyi tercih etmişler, arada çok büyük bir fark var, ancak kadınlar arasında yüzde olarak o kadar büyük bir fark yok.\n"
      ],
      "metadata": {
        "id": "sNymXVumAA8h"
      },
      "execution_count": 46,
      "outputs": []
    },
    {
      "cell_type": "code",
      "source": [
        "# 10) CC Number sütununu kalıcı olarak drop edin. Ardından df'in içindeki sütunların birbirleriyle olan ilişkilerini inceleyin ve çıkan sonuçlar hakkında yorumlarınızı belirtin.\n",
        "\n",
        "# df_tips.drop('CC Number', axis = 1, inplace = True)\n",
        "df_tips.describe()\n"
      ],
      "metadata": {
        "colab": {
          "base_uri": "https://localhost:8080/",
          "height": 300
        },
        "id": "p2cq_1X4AMC2",
        "outputId": "30caa42a-8913-40a6-b6e8-6ec68ff6af60"
      },
      "execution_count": 52,
      "outputs": [
        {
          "output_type": "execute_result",
          "data": {
            "text/plain": [
              "       total_bill         tip        size  price_per_person\n",
              "count  244.000000  244.000000  244.000000        244.000000\n",
              "mean    19.785943    2.998279    2.569672          7.888197\n",
              "std      8.902412    1.383638    0.951100          2.914234\n",
              "min      3.070000    1.000000    1.000000          2.880000\n",
              "25%     13.347500    2.000000    2.000000          5.800000\n",
              "50%     17.795000    2.900000    2.000000          7.255000\n",
              "75%     24.127500    3.562500    3.000000          9.390000\n",
              "max     50.810000   10.000000    6.000000         20.270000"
            ],
            "text/html": [
              "\n",
              "  <div id=\"df-aff68016-ab6e-4daf-a01b-6de39cb5f8de\">\n",
              "    <div class=\"colab-df-container\">\n",
              "      <div>\n",
              "<style scoped>\n",
              "    .dataframe tbody tr th:only-of-type {\n",
              "        vertical-align: middle;\n",
              "    }\n",
              "\n",
              "    .dataframe tbody tr th {\n",
              "        vertical-align: top;\n",
              "    }\n",
              "\n",
              "    .dataframe thead th {\n",
              "        text-align: right;\n",
              "    }\n",
              "</style>\n",
              "<table border=\"1\" class=\"dataframe\">\n",
              "  <thead>\n",
              "    <tr style=\"text-align: right;\">\n",
              "      <th></th>\n",
              "      <th>total_bill</th>\n",
              "      <th>tip</th>\n",
              "      <th>size</th>\n",
              "      <th>price_per_person</th>\n",
              "    </tr>\n",
              "  </thead>\n",
              "  <tbody>\n",
              "    <tr>\n",
              "      <th>count</th>\n",
              "      <td>244.000000</td>\n",
              "      <td>244.000000</td>\n",
              "      <td>244.000000</td>\n",
              "      <td>244.000000</td>\n",
              "    </tr>\n",
              "    <tr>\n",
              "      <th>mean</th>\n",
              "      <td>19.785943</td>\n",
              "      <td>2.998279</td>\n",
              "      <td>2.569672</td>\n",
              "      <td>7.888197</td>\n",
              "    </tr>\n",
              "    <tr>\n",
              "      <th>std</th>\n",
              "      <td>8.902412</td>\n",
              "      <td>1.383638</td>\n",
              "      <td>0.951100</td>\n",
              "      <td>2.914234</td>\n",
              "    </tr>\n",
              "    <tr>\n",
              "      <th>min</th>\n",
              "      <td>3.070000</td>\n",
              "      <td>1.000000</td>\n",
              "      <td>1.000000</td>\n",
              "      <td>2.880000</td>\n",
              "    </tr>\n",
              "    <tr>\n",
              "      <th>25%</th>\n",
              "      <td>13.347500</td>\n",
              "      <td>2.000000</td>\n",
              "      <td>2.000000</td>\n",
              "      <td>5.800000</td>\n",
              "    </tr>\n",
              "    <tr>\n",
              "      <th>50%</th>\n",
              "      <td>17.795000</td>\n",
              "      <td>2.900000</td>\n",
              "      <td>2.000000</td>\n",
              "      <td>7.255000</td>\n",
              "    </tr>\n",
              "    <tr>\n",
              "      <th>75%</th>\n",
              "      <td>24.127500</td>\n",
              "      <td>3.562500</td>\n",
              "      <td>3.000000</td>\n",
              "      <td>9.390000</td>\n",
              "    </tr>\n",
              "    <tr>\n",
              "      <th>max</th>\n",
              "      <td>50.810000</td>\n",
              "      <td>10.000000</td>\n",
              "      <td>6.000000</td>\n",
              "      <td>20.270000</td>\n",
              "    </tr>\n",
              "  </tbody>\n",
              "</table>\n",
              "</div>\n",
              "      <button class=\"colab-df-convert\" onclick=\"convertToInteractive('df-aff68016-ab6e-4daf-a01b-6de39cb5f8de')\"\n",
              "              title=\"Convert this dataframe to an interactive table.\"\n",
              "              style=\"display:none;\">\n",
              "        \n",
              "  <svg xmlns=\"http://www.w3.org/2000/svg\" height=\"24px\"viewBox=\"0 0 24 24\"\n",
              "       width=\"24px\">\n",
              "    <path d=\"M0 0h24v24H0V0z\" fill=\"none\"/>\n",
              "    <path d=\"M18.56 5.44l.94 2.06.94-2.06 2.06-.94-2.06-.94-.94-2.06-.94 2.06-2.06.94zm-11 1L8.5 8.5l.94-2.06 2.06-.94-2.06-.94L8.5 2.5l-.94 2.06-2.06.94zm10 10l.94 2.06.94-2.06 2.06-.94-2.06-.94-.94-2.06-.94 2.06-2.06.94z\"/><path d=\"M17.41 7.96l-1.37-1.37c-.4-.4-.92-.59-1.43-.59-.52 0-1.04.2-1.43.59L10.3 9.45l-7.72 7.72c-.78.78-.78 2.05 0 2.83L4 21.41c.39.39.9.59 1.41.59.51 0 1.02-.2 1.41-.59l7.78-7.78 2.81-2.81c.8-.78.8-2.07 0-2.86zM5.41 20L4 18.59l7.72-7.72 1.47 1.35L5.41 20z\"/>\n",
              "  </svg>\n",
              "      </button>\n",
              "      \n",
              "  <style>\n",
              "    .colab-df-container {\n",
              "      display:flex;\n",
              "      flex-wrap:wrap;\n",
              "      gap: 12px;\n",
              "    }\n",
              "\n",
              "    .colab-df-convert {\n",
              "      background-color: #E8F0FE;\n",
              "      border: none;\n",
              "      border-radius: 50%;\n",
              "      cursor: pointer;\n",
              "      display: none;\n",
              "      fill: #1967D2;\n",
              "      height: 32px;\n",
              "      padding: 0 0 0 0;\n",
              "      width: 32px;\n",
              "    }\n",
              "\n",
              "    .colab-df-convert:hover {\n",
              "      background-color: #E2EBFA;\n",
              "      box-shadow: 0px 1px 2px rgba(60, 64, 67, 0.3), 0px 1px 3px 1px rgba(60, 64, 67, 0.15);\n",
              "      fill: #174EA6;\n",
              "    }\n",
              "\n",
              "    [theme=dark] .colab-df-convert {\n",
              "      background-color: #3B4455;\n",
              "      fill: #D2E3FC;\n",
              "    }\n",
              "\n",
              "    [theme=dark] .colab-df-convert:hover {\n",
              "      background-color: #434B5C;\n",
              "      box-shadow: 0px 1px 3px 1px rgba(0, 0, 0, 0.15);\n",
              "      filter: drop-shadow(0px 1px 2px rgba(0, 0, 0, 0.3));\n",
              "      fill: #FFFFFF;\n",
              "    }\n",
              "  </style>\n",
              "\n",
              "      <script>\n",
              "        const buttonEl =\n",
              "          document.querySelector('#df-aff68016-ab6e-4daf-a01b-6de39cb5f8de button.colab-df-convert');\n",
              "        buttonEl.style.display =\n",
              "          google.colab.kernel.accessAllowed ? 'block' : 'none';\n",
              "\n",
              "        async function convertToInteractive(key) {\n",
              "          const element = document.querySelector('#df-aff68016-ab6e-4daf-a01b-6de39cb5f8de');\n",
              "          const dataTable =\n",
              "            await google.colab.kernel.invokeFunction('convertToInteractive',\n",
              "                                                     [key], {});\n",
              "          if (!dataTable) return;\n",
              "\n",
              "          const docLinkHtml = 'Like what you see? Visit the ' +\n",
              "            '<a target=\"_blank\" href=https://colab.research.google.com/notebooks/data_table.ipynb>data table notebook</a>'\n",
              "            + ' to learn more about interactive tables.';\n",
              "          element.innerHTML = '';\n",
              "          dataTable['output_type'] = 'display_data';\n",
              "          await google.colab.output.renderOutput(dataTable, element);\n",
              "          const docLink = document.createElement('div');\n",
              "          docLink.innerHTML = docLinkHtml;\n",
              "          element.appendChild(docLink);\n",
              "        }\n",
              "      </script>\n",
              "    </div>\n",
              "  </div>\n",
              "  "
            ]
          },
          "metadata": {},
          "execution_count": 52
        }
      ]
    },
    {
      "cell_type": "code",
      "source": [],
      "metadata": {
        "id": "_T8YbkH4Acks"
      },
      "execution_count": null,
      "outputs": []
    }
  ]
}